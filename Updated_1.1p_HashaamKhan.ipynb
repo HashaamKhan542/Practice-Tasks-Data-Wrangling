{
 "cells": [
  {
   "cell_type": "markdown",
   "id": "bc3f3452",
   "metadata": {},
   "source": [
    "# 1.1 Introduction\n",
    "\n",
    "## Task 1.1P\n",
    "**Name: Hashaam Khan**  \n",
    "**S223871946**  \n",
    "**s223871946.deakin.edu.au**  \n",
    "**SIT731 PostGrad**  \n",
    "**Introduction**\n",
    "Body Mass Index (BMI) is a widely used measure to assess whether a person has a healthy weight for their height. This notebook explores BMI calculations, classification based on WHO guidelines, visualization, and a discussion on the advantages and limitations of BMI. Additionally, we compute the New BMI formula, which adjusts for height variations. "
   ]
  },
  {
   "cell_type": "markdown",
   "id": "382d85b5",
   "metadata": {},
   "source": [
    "## 1.2.1 Input Data\n",
    "\n",
    " **Step 1: Data Input**  \n",
    "We define the names, heights (in cm), and weights (in kg) of a group of individuals."
   ]
  },
  {
   "cell_type": "code",
   "execution_count": 1,
   "id": "615dff55-d1e3-4116-9de1-44fe556363d4",
   "metadata": {},
   "outputs": [],
   "source": [
    "names = [\"Barbara\", \"Anne\", \"Greg\", \"Maggie\", \"Nynke\"]\n",
    "heights = [173, 161, 180, 158, 177 ] # in centimetres\n",
    "weights = [61, 79, 83, 58, 57 ] # in kilograms"
   ]
  },
  {
   "cell_type": "markdown",
   "id": "38071e70",
   "metadata": {},
   "source": [
    " **Step 2: Calculate BMI**"
   ]
  },
  {
   "cell_type": "markdown",
   "id": "0a99f105",
   "metadata": {},
   "source": [
    "### 1.2.2 Calculating BMI\n",
    "\n",
    "We calculate the BMI using the formula: BMI = weight (kg) / (height (m)²). A loop is used to compute the BMI for each individual."
   ]
  },
  {
   "cell_type": "code",
   "execution_count": 2,
   "id": "72ef0d21-0a22-4723-b4ad-a2dc23b4897f",
   "metadata": {},
   "outputs": [
    {
     "name": "stdout",
     "output_type": "stream",
     "text": [
      "[20.38, 30.48, 25.62, 23.23, 18.19]\n"
     ]
    }
   ],
   "source": [
    "bmis = []  # Store computed BMI values\n",
    "\n",
    "# Compute BMI for each person\n",
    "for i in range(len(names)):\n",
    "    height_m = heights[i] / 100 \n",
    "    bmi = weights[i] / (height_m ** 2)  \n",
    "    bmis.append(round(bmi, 2))  \n",
    "print(bmis)"
   ]
  },
  {
   "cell_type": "markdown",
   "id": "a9db6447",
   "metadata": {},
   "source": [
    "The BMI values have been computed successfully, which will be used to classify individuals into categories."
   ]
  },
  {
   "cell_type": "markdown",
   "id": "0170ec2f",
   "metadata": {},
   "source": [
    " ## 1.2.3Categorize BMI\n",
    "Based on WHO guidelines:\n",
    "- **Underweight:** BMI < 18.5  \n",
    "- **Normal:** 18.5 ≤ BMI < 25  \n",
    "- **Overweight:** 25 ≤ BMI < 30  \n",
    "- **Obese:** BMI ≥ 30  "
   ]
  },
  {
   "cell_type": "code",
   "execution_count": 3,
   "id": "d344e303-f7c1-401f-8eaa-821acbc5d63e",
   "metadata": {
    "scrolled": true
   },
   "outputs": [
    {
     "name": "stdout",
     "output_type": "stream",
     "text": [
      "Barbara has BMI of 20.38 which is normal.\n",
      "Anne has BMI of 30.48 which is obese.\n",
      "Greg has BMI of 25.62 which is overweight.\n",
      "Maggie has BMI of 23.23 which is normal.\n",
      "Nynke has BMI of 18.19 which is underweight.\n"
     ]
    }
   ],
   "source": [
    "bmi_categories=[]\n",
    "#Assigning categories as mentioned above to a list bmi_categories\n",
    "for i in range(len(bmis)):\n",
    "    if bmis[i] < 18.5:\n",
    "        category=\"underweight\"\n",
    "    elif bmis[i] < 25:\n",
    "        category=\"normal\"\n",
    "    elif bmis[i] < 30:\n",
    "        category = \"overweight\"\n",
    "    else:\n",
    "        category = \"obese\"\n",
    "    bmi_categories.append(category)\n",
    "#printing out each persons BMI and Category the falls into\n",
    "for i in range(len(names)):\n",
    "    print(f\"{names[i]} has BMI of {bmis[i]} which is {bmi_categories[i]}.\")"
   ]
  },
  {
   "cell_type": "markdown",
   "id": "5470da69",
   "metadata": {},
   "source": [
    " ## 1.2.4: Visualization"
   ]
  },
  {
   "cell_type": "markdown",
   "id": "9ec1b414",
   "metadata": {},
   "source": [
    "### Plotting BMI Categories\n",
    "\n",
    "The following bar plot visualizes the BMI of individuals with colors representing their BMI category."
   ]
  },
  {
   "cell_type": "code",
   "execution_count": 4,
   "id": "1d93502e-7cf1-4e25-92b0-4180b48ba8af",
   "metadata": {},
   "outputs": [
    {
     "data": {
      "image/png": "[encoded data removed]",
      "text/plain": [
       "<Figure size 640x480 with 1 Axes>"
      ]
     },
     "metadata": {},
     "output_type": "display_data"
    }
   ],
   "source": [
    "import matplotlib.patches as mpatches\n",
    "#Assigning individual color to each category of body type\n",
    "#where red= obese, orange=normal, pink= overweight and blue = underweight\n",
    "import matplotlib.pyplot as plt\n",
    "colors={\"underweight\": \"#ADD8E6\",\n",
    "    \"normal\": \"#FFA07A\",\n",
    "    \"overweight\": \"#FFB6C1\",\n",
    "    \"obese\": \"red\"}\n",
    "bar_colors=[colors[category] for category in bmi_categories]\n",
    "#We assigned bar_colors to color field in plt.bar()\n",
    "plt.bar(names,bmis,color=bar_colors)\n",
    "legend_patches = [mpatches.Patch(color=color, label=category) for category, color in colors.items()]\n",
    "plt.legend(handles=legend_patches, title=\"BMI Categories\")\n",
    "plt.xlabel(\"Names\")\n",
    "plt.ylabel(\"BMI\")\n",
    "\n",
    "plt.title(\"My Friends' BMIs\")\n",
    "plt.show()\n",
    "\n",
    "\n",
    "\n",
    "\n",
    "\n",
    "\n"
   ]
  },
  {
   "cell_type": "markdown",
   "id": "49db3c31",
   "metadata": {},
   "source": [
    "The visualization successfully differentiates BMI categories using color coding, making it easy to interpret the data."
   ]
  },
  {
   "cell_type": "markdown",
   "id": "4076b06e",
   "metadata": {},
   "source": [
    "## 1.2.5 :Discussion on BMI  \n",
    "\n",
    "    BMI is a simple and widely used tool to assess whether a person has a healthy weight for their height. It is easy to calculate and helps doctors and researchers track obesity and malnutrition trends in large populations. Since BMI is linked to health risks like heart disease and diabetes, it can serve as an early warning sign, encouraging people to take preventive action. Its simplicity makes it useful in healthcare, fitness, and public health studies.\n",
    "\n",
    "    However, BMI has many limitations, especially when used for individuals. It does not distinguish between muscle and fat, so athletes with high muscle mass may be wrongly classified as overweight or obese. It also ignores fat distribution, which is important for health risks, and does not consider factors like age, gender, or ethnicity. This means BMI alone may not always provide an accurate picture of a person’s health.\n",
    "\n",
    "    Society often misuses BMI by relying on it too much. Some workplaces and insurance companies use BMI to judge health, which can lead to unfair treatment. It can also negatively impact self-esteem when people are labeled unhealthy based only on a number. While BMI is a useful starting point, it should always be combined with other measures like body fat percentage, fitness levels, and overall lifestyle for a clearer health assessment"
   ]
  },
  {
   "cell_type": "markdown",
   "id": "ff2ff01e",
   "metadata": {},
   "source": [
    "## POSTGRAD 3\n",
    "## 1.3.1 :New BMI Calculation"
   ]
  },
  {
   "cell_type": "code",
   "execution_count": 5,
   "id": "5640023a-7743-4230-a4bf-b8620e40936b",
   "metadata": {},
   "outputs": [
    {
     "name": "stdout",
     "output_type": "stream",
     "text": [
      "[15.5, 24.02, 19.09, 18.48, 13.68]\n"
     ]
    }
   ],
   "source": [
    "#Calculating new BMI which takes height into the account\n",
    "bmis_new = []  \n",
    "\n",
    "for i in range(len(names)):\n",
    "    height_m = heights[i] / 100 \n",
    "    bmi = weights[i] / (height_m ** 2.5)  \n",
    "    bmis_new.append(round(bmi, 2))  \n",
    "print(bmis_new)"
   ]
  },
  {
   "cell_type": "markdown",
   "id": "7709b31d-8782-493a-a9a9-7a6c621a14e0",
   "metadata": {},
   "source": [
    "## 1.3.2:Printing out each persons old and new BMIs"
   ]
  },
  {
   "cell_type": "code",
   "execution_count": 6,
   "id": "df3d0b39-c007-40ef-844b-c4d38ca90135",
   "metadata": {},
   "outputs": [
    {
     "name": "stdout",
     "output_type": "stream",
     "text": [
      "Barbara has BMI of 20.38 which is normal. The new BMI index is 15.5\n",
      "Anne has BMI of 30.48 which is obese. The new BMI index is 24.02\n",
      "Greg has BMI of 25.62 which is overweight. The new BMI index is 19.09\n",
      "Maggie has BMI of 23.23 which is normal. The new BMI index is 18.48\n",
      "Nynke has BMI of 18.19 which is underweight. The new BMI index is 13.68\n"
     ]
    }
   ],
   "source": [
    "#Printing out each persons old and new BMIs \n",
    "for i in range(len(names)):\n",
    "    print(f\"{names[i]} has BMI of {bmis[i]} which is {bmi_categories[i]}. The new BMI index is {bmis_new[i]}\")"
   ]
  },
  {
   "cell_type": "markdown",
   "id": "563cbf37-10f2-416f-aca9-539ee9ac4a7f",
   "metadata": {},
   "source": [
    "## 1.3.3 Advantages or Limitations of new BMI"
   ]
  },
  {
   "cell_type": "markdown",
   "id": "75675a5c",
   "metadata": {},
   "source": [
    "**Advantages or Limitations of new BMI**\n",
    "The New BMI measure improves on traditional BMI by adjusting for height differences, making it slightly more accurate for taller and shorter individuals. However, it still does not account for muscle mass, fat distribution, or individual body composition, which can lead to misclassification. While it offers a small improvement, it is not widely used yet and should be combined with other health indicators like body fat percentage and waist-to-hip ratio for a more accurate assessment of overall health."
   ]
  },
  {
   "cell_type": "markdown",
   "id": "0248aafa",
   "metadata": {},
   "source": [
    "**Conclusion**\n",
    "In this notebook, we calculated and categorized BMI values, visualized them, and discussed its pros and cons. The findings show that while BMI is a useful health metric, it has limitations and should not be used alone. Future improvements could involve integrating body composition analysis for better accuracy.\n"
   ]
  },
  {
   "cell_type": "code",
   "execution_count": null,
   "id": "4460d148-6a6e-40f3-8d11-2b7c10be2cf9",
   "metadata": {},
   "outputs": [],
   "source": []
  }
 ],
 "metadata": {
  "kernelspec": {
   "display_name": "Python (my_env)",
   "language": "python",
   "name": "my_env"
  },
  "language_info": {
   "codemirror_mode": {
    "name": "ipython",
    "version": 3
   },
   "file_extension": ".py",
   "mimetype": "text/x-python",
   "name": "python",
   "nbconvert_exporter": "python",
   "pygments_lexer": "ipython3",
   "version": "3.13.2"
  }
 },
 "nbformat": 4,
 "nbformat_minor": 5
}
